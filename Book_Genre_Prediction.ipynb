{
  "cells": [
    {
      "cell_type": "code",
      "execution_count": 1,
      "id": "classified-minutes",
      "metadata": {
        "id": "classified-minutes"
      },
      "outputs": [],
      "source": [
        "import pandas as pd\n",
        "import numpy as np\n",
        "import seaborn as sn\n",
        "import matplotlib.pyplot as plt\n",
        "import re\n",
        "import nltk\n",
        "from collections import Counter\n",
        "from sklearn.feature_extraction.text import TfidfVectorizer,CountVectorizer\n",
        "from sklearn.model_selection import train_test_split\n",
        "from sklearn.tree import DecisionTreeClassifier\n",
        "from sklearn.ensemble import RandomForestClassifier\n",
        "from sklearn.naive_bayes import GaussianNB,MultinomialNB\n",
        "from sklearn.svm import SVC\n",
        "from sklearn import metrics"
      ]
    },
    {
      "cell_type": "code",
      "execution_count": 11,
      "id": "foreign-concert",
      "metadata": {
        "colab": {
          "base_uri": "https://localhost:8080/",
          "height": 354
        },
        "id": "foreign-concert",
        "outputId": "fe8d8994-b7a5-4f41-e57e-09af1661a968"
      },
      "outputs": [
        {
          "output_type": "execute_result",
          "data": {
            "text/plain": [
              "   Unnamed: 0   book_id                  book_name    genre  \\\n",
              "0           0   3248537          Drowned Wednesday  Fantasy   \n",
              "1           1  27796919              The Lost Hero  Fantasy   \n",
              "2           2   3910776  The Eyes of the Overworld  Fantasy   \n",
              "3           3   5969644            Magic's Promise  Fantasy   \n",
              "4           4   3173445             Taran Wanderer  Fantasy   \n",
              "\n",
              "                                             summary  \n",
              "0   Drowned Wednesday is the first Trustee among ...  \n",
              "1   As the book opens, Jason awakens on a school ...  \n",
              "2   Cugel is easily persuaded by the merchant Fia...  \n",
              "3   The book opens with Herald-Mage Vanyel return...  \n",
              "4   Taran and Gurgi have returned to Caer Dallben...  "
            ],
            "text/html": [
              "\n",
              "  <div id=\"df-a5ce5c44-202f-42f6-a32a-18fe7c83dcbc\">\n",
              "    <div class=\"colab-df-container\">\n",
              "      <div>\n",
              "<style scoped>\n",
              "    .dataframe tbody tr th:only-of-type {\n",
              "        vertical-align: middle;\n",
              "    }\n",
              "\n",
              "    .dataframe tbody tr th {\n",
              "        vertical-align: top;\n",
              "    }\n",
              "\n",
              "    .dataframe thead th {\n",
              "        text-align: right;\n",
              "    }\n",
              "</style>\n",
              "<table border=\"1\" class=\"dataframe\">\n",
              "  <thead>\n",
              "    <tr style=\"text-align: right;\">\n",
              "      <th></th>\n",
              "      <th>Unnamed: 0</th>\n",
              "      <th>book_id</th>\n",
              "      <th>book_name</th>\n",
              "      <th>genre</th>\n",
              "      <th>summary</th>\n",
              "    </tr>\n",
              "  </thead>\n",
              "  <tbody>\n",
              "    <tr>\n",
              "      <th>0</th>\n",
              "      <td>0</td>\n",
              "      <td>3248537</td>\n",
              "      <td>Drowned Wednesday</td>\n",
              "      <td>Fantasy</td>\n",
              "      <td>Drowned Wednesday is the first Trustee among ...</td>\n",
              "    </tr>\n",
              "    <tr>\n",
              "      <th>1</th>\n",
              "      <td>1</td>\n",
              "      <td>27796919</td>\n",
              "      <td>The Lost Hero</td>\n",
              "      <td>Fantasy</td>\n",
              "      <td>As the book opens, Jason awakens on a school ...</td>\n",
              "    </tr>\n",
              "    <tr>\n",
              "      <th>2</th>\n",
              "      <td>2</td>\n",
              "      <td>3910776</td>\n",
              "      <td>The Eyes of the Overworld</td>\n",
              "      <td>Fantasy</td>\n",
              "      <td>Cugel is easily persuaded by the merchant Fia...</td>\n",
              "    </tr>\n",
              "    <tr>\n",
              "      <th>3</th>\n",
              "      <td>3</td>\n",
              "      <td>5969644</td>\n",
              "      <td>Magic's Promise</td>\n",
              "      <td>Fantasy</td>\n",
              "      <td>The book opens with Herald-Mage Vanyel return...</td>\n",
              "    </tr>\n",
              "    <tr>\n",
              "      <th>4</th>\n",
              "      <td>4</td>\n",
              "      <td>3173445</td>\n",
              "      <td>Taran Wanderer</td>\n",
              "      <td>Fantasy</td>\n",
              "      <td>Taran and Gurgi have returned to Caer Dallben...</td>\n",
              "    </tr>\n",
              "  </tbody>\n",
              "</table>\n",
              "</div>\n",
              "      <button class=\"colab-df-convert\" onclick=\"convertToInteractive('df-a5ce5c44-202f-42f6-a32a-18fe7c83dcbc')\"\n",
              "              title=\"Convert this dataframe to an interactive table.\"\n",
              "              style=\"display:none;\">\n",
              "        \n",
              "  <svg xmlns=\"http://www.w3.org/2000/svg\" height=\"24px\"viewBox=\"0 0 24 24\"\n",
              "       width=\"24px\">\n",
              "    <path d=\"M0 0h24v24H0V0z\" fill=\"none\"/>\n",
              "    <path d=\"M18.56 5.44l.94 2.06.94-2.06 2.06-.94-2.06-.94-.94-2.06-.94 2.06-2.06.94zm-11 1L8.5 8.5l.94-2.06 2.06-.94-2.06-.94L8.5 2.5l-.94 2.06-2.06.94zm10 10l.94 2.06.94-2.06 2.06-.94-2.06-.94-.94-2.06-.94 2.06-2.06.94z\"/><path d=\"M17.41 7.96l-1.37-1.37c-.4-.4-.92-.59-1.43-.59-.52 0-1.04.2-1.43.59L10.3 9.45l-7.72 7.72c-.78.78-.78 2.05 0 2.83L4 21.41c.39.39.9.59 1.41.59.51 0 1.02-.2 1.41-.59l7.78-7.78 2.81-2.81c.8-.78.8-2.07 0-2.86zM5.41 20L4 18.59l7.72-7.72 1.47 1.35L5.41 20z\"/>\n",
              "  </svg>\n",
              "      </button>\n",
              "      \n",
              "  <style>\n",
              "    .colab-df-container {\n",
              "      display:flex;\n",
              "      flex-wrap:wrap;\n",
              "      gap: 12px;\n",
              "    }\n",
              "\n",
              "    .colab-df-convert {\n",
              "      background-color: #E8F0FE;\n",
              "      border: none;\n",
              "      border-radius: 50%;\n",
              "      cursor: pointer;\n",
              "      display: none;\n",
              "      fill: #1967D2;\n",
              "      height: 32px;\n",
              "      padding: 0 0 0 0;\n",
              "      width: 32px;\n",
              "    }\n",
              "\n",
              "    .colab-df-convert:hover {\n",
              "      background-color: #E2EBFA;\n",
              "      box-shadow: 0px 1px 2px rgba(60, 64, 67, 0.3), 0px 1px 3px 1px rgba(60, 64, 67, 0.15);\n",
              "      fill: #174EA6;\n",
              "    }\n",
              "\n",
              "    [theme=dark] .colab-df-convert {\n",
              "      background-color: #3B4455;\n",
              "      fill: #D2E3FC;\n",
              "    }\n",
              "\n",
              "    [theme=dark] .colab-df-convert:hover {\n",
              "      background-color: #434B5C;\n",
              "      box-shadow: 0px 1px 3px 1px rgba(0, 0, 0, 0.15);\n",
              "      filter: drop-shadow(0px 1px 2px rgba(0, 0, 0, 0.3));\n",
              "      fill: #FFFFFF;\n",
              "    }\n",
              "  </style>\n",
              "\n",
              "      <script>\n",
              "        const buttonEl =\n",
              "          document.querySelector('#df-a5ce5c44-202f-42f6-a32a-18fe7c83dcbc button.colab-df-convert');\n",
              "        buttonEl.style.display =\n",
              "          google.colab.kernel.accessAllowed ? 'block' : 'none';\n",
              "\n",
              "        async function convertToInteractive(key) {\n",
              "          const element = document.querySelector('#df-a5ce5c44-202f-42f6-a32a-18fe7c83dcbc');\n",
              "          const dataTable =\n",
              "            await google.colab.kernel.invokeFunction('convertToInteractive',\n",
              "                                                     [key], {});\n",
              "          if (!dataTable) return;\n",
              "\n",
              "          const docLinkHtml = 'Like what you see? Visit the ' +\n",
              "            '<a target=\"_blank\" href=https://colab.research.google.com/notebooks/data_table.ipynb>data table notebook</a>'\n",
              "            + ' to learn more about interactive tables.';\n",
              "          element.innerHTML = '';\n",
              "          dataTable['output_type'] = 'display_data';\n",
              "          await google.colab.output.renderOutput(dataTable, element);\n",
              "          const docLink = document.createElement('div');\n",
              "          docLink.innerHTML = docLinkHtml;\n",
              "          element.appendChild(docLink);\n",
              "        }\n",
              "      </script>\n",
              "    </div>\n",
              "  </div>\n",
              "  "
            ]
          },
          "metadata": {},
          "execution_count": 11
        }
      ],
      "source": [
        "  books = pd.read_csv('BooksDataSet.csv')\n",
        "books.head()"
      ]
    },
    {
      "cell_type": "code",
      "execution_count": 12,
      "id": "cooperative-portsmouth",
      "metadata": {
        "colab": {
          "base_uri": "https://localhost:8080/",
          "height": 143
        },
        "id": "cooperative-portsmouth",
        "outputId": "9b0ad1b8-7f5e-4f7c-e40b-7e0fd9265c38"
      },
      "outputs": [
        {
          "output_type": "execute_result",
          "data": {
            "text/plain": [
              "    book_id                  book_name    genre  \\\n",
              "0   3248537          Drowned Wednesday  Fantasy   \n",
              "1  27796919              The Lost Hero  Fantasy   \n",
              "2   3910776  The Eyes of the Overworld  Fantasy   \n",
              "\n",
              "                                             summary  \n",
              "0   Drowned Wednesday is the first Trustee among ...  \n",
              "1   As the book opens, Jason awakens on a school ...  \n",
              "2   Cugel is easily persuaded by the merchant Fia...  "
            ],
            "text/html": [
              "\n",
              "  <div id=\"df-ca928dac-9fd4-48cb-8446-c6e58aa50828\">\n",
              "    <div class=\"colab-df-container\">\n",
              "      <div>\n",
              "<style scoped>\n",
              "    .dataframe tbody tr th:only-of-type {\n",
              "        vertical-align: middle;\n",
              "    }\n",
              "\n",
              "    .dataframe tbody tr th {\n",
              "        vertical-align: top;\n",
              "    }\n",
              "\n",
              "    .dataframe thead th {\n",
              "        text-align: right;\n",
              "    }\n",
              "</style>\n",
              "<table border=\"1\" class=\"dataframe\">\n",
              "  <thead>\n",
              "    <tr style=\"text-align: right;\">\n",
              "      <th></th>\n",
              "      <th>book_id</th>\n",
              "      <th>book_name</th>\n",
              "      <th>genre</th>\n",
              "      <th>summary</th>\n",
              "    </tr>\n",
              "  </thead>\n",
              "  <tbody>\n",
              "    <tr>\n",
              "      <th>0</th>\n",
              "      <td>3248537</td>\n",
              "      <td>Drowned Wednesday</td>\n",
              "      <td>Fantasy</td>\n",
              "      <td>Drowned Wednesday is the first Trustee among ...</td>\n",
              "    </tr>\n",
              "    <tr>\n",
              "      <th>1</th>\n",
              "      <td>27796919</td>\n",
              "      <td>The Lost Hero</td>\n",
              "      <td>Fantasy</td>\n",
              "      <td>As the book opens, Jason awakens on a school ...</td>\n",
              "    </tr>\n",
              "    <tr>\n",
              "      <th>2</th>\n",
              "      <td>3910776</td>\n",
              "      <td>The Eyes of the Overworld</td>\n",
              "      <td>Fantasy</td>\n",
              "      <td>Cugel is easily persuaded by the merchant Fia...</td>\n",
              "    </tr>\n",
              "  </tbody>\n",
              "</table>\n",
              "</div>\n",
              "      <button class=\"colab-df-convert\" onclick=\"convertToInteractive('df-ca928dac-9fd4-48cb-8446-c6e58aa50828')\"\n",
              "              title=\"Convert this dataframe to an interactive table.\"\n",
              "              style=\"display:none;\">\n",
              "        \n",
              "  <svg xmlns=\"http://www.w3.org/2000/svg\" height=\"24px\"viewBox=\"0 0 24 24\"\n",
              "       width=\"24px\">\n",
              "    <path d=\"M0 0h24v24H0V0z\" fill=\"none\"/>\n",
              "    <path d=\"M18.56 5.44l.94 2.06.94-2.06 2.06-.94-2.06-.94-.94-2.06-.94 2.06-2.06.94zm-11 1L8.5 8.5l.94-2.06 2.06-.94-2.06-.94L8.5 2.5l-.94 2.06-2.06.94zm10 10l.94 2.06.94-2.06 2.06-.94-2.06-.94-.94-2.06-.94 2.06-2.06.94z\"/><path d=\"M17.41 7.96l-1.37-1.37c-.4-.4-.92-.59-1.43-.59-.52 0-1.04.2-1.43.59L10.3 9.45l-7.72 7.72c-.78.78-.78 2.05 0 2.83L4 21.41c.39.39.9.59 1.41.59.51 0 1.02-.2 1.41-.59l7.78-7.78 2.81-2.81c.8-.78.8-2.07 0-2.86zM5.41 20L4 18.59l7.72-7.72 1.47 1.35L5.41 20z\"/>\n",
              "  </svg>\n",
              "      </button>\n",
              "      \n",
              "  <style>\n",
              "    .colab-df-container {\n",
              "      display:flex;\n",
              "      flex-wrap:wrap;\n",
              "      gap: 12px;\n",
              "    }\n",
              "\n",
              "    .colab-df-convert {\n",
              "      background-color: #E8F0FE;\n",
              "      border: none;\n",
              "      border-radius: 50%;\n",
              "      cursor: pointer;\n",
              "      display: none;\n",
              "      fill: #1967D2;\n",
              "      height: 32px;\n",
              "      padding: 0 0 0 0;\n",
              "      width: 32px;\n",
              "    }\n",
              "\n",
              "    .colab-df-convert:hover {\n",
              "      background-color: #E2EBFA;\n",
              "      box-shadow: 0px 1px 2px rgba(60, 64, 67, 0.3), 0px 1px 3px 1px rgba(60, 64, 67, 0.15);\n",
              "      fill: #174EA6;\n",
              "    }\n",
              "\n",
              "    [theme=dark] .colab-df-convert {\n",
              "      background-color: #3B4455;\n",
              "      fill: #D2E3FC;\n",
              "    }\n",
              "\n",
              "    [theme=dark] .colab-df-convert:hover {\n",
              "      background-color: #434B5C;\n",
              "      box-shadow: 0px 1px 3px 1px rgba(0, 0, 0, 0.15);\n",
              "      filter: drop-shadow(0px 1px 2px rgba(0, 0, 0, 0.3));\n",
              "      fill: #FFFFFF;\n",
              "    }\n",
              "  </style>\n",
              "\n",
              "      <script>\n",
              "        const buttonEl =\n",
              "          document.querySelector('#df-ca928dac-9fd4-48cb-8446-c6e58aa50828 button.colab-df-convert');\n",
              "        buttonEl.style.display =\n",
              "          google.colab.kernel.accessAllowed ? 'block' : 'none';\n",
              "\n",
              "        async function convertToInteractive(key) {\n",
              "          const element = document.querySelector('#df-ca928dac-9fd4-48cb-8446-c6e58aa50828');\n",
              "          const dataTable =\n",
              "            await google.colab.kernel.invokeFunction('convertToInteractive',\n",
              "                                                     [key], {});\n",
              "          if (!dataTable) return;\n",
              "\n",
              "          const docLinkHtml = 'Like what you see? Visit the ' +\n",
              "            '<a target=\"_blank\" href=https://colab.research.google.com/notebooks/data_table.ipynb>data table notebook</a>'\n",
              "            + ' to learn more about interactive tables.';\n",
              "          element.innerHTML = '';\n",
              "          dataTable['output_type'] = 'display_data';\n",
              "          await google.colab.output.renderOutput(dataTable, element);\n",
              "          const docLink = document.createElement('div');\n",
              "          docLink.innerHTML = docLinkHtml;\n",
              "          element.appendChild(docLink);\n",
              "        }\n",
              "      </script>\n",
              "    </div>\n",
              "  </div>\n",
              "  "
            ]
          },
          "metadata": {},
          "execution_count": 12
        }
      ],
      "source": [
        "# removing the unnamed : 0\n",
        "\n",
        "books = books[['book_id', 'book_name', 'genre', 'summary']]\n",
        "books.head(3)"
      ]
    },
    {
      "cell_type": "code",
      "execution_count": 13,
      "id": "liquid-athletics",
      "metadata": {
        "colab": {
          "base_uri": "https://localhost:8080/"
        },
        "id": "liquid-athletics",
        "outputId": "e00011cd-553e-4f70-eb29-2cd4446ca5bc"
      },
      "outputs": [
        {
          "output_type": "stream",
          "name": "stdout",
          "text": [
            "<class 'pandas.core.frame.DataFrame'>\n",
            "RangeIndex: 3000 entries, 0 to 2999\n",
            "Data columns (total 4 columns):\n",
            " #   Column     Non-Null Count  Dtype \n",
            "---  ------     --------------  ----- \n",
            " 0   book_id    3000 non-null   int64 \n",
            " 1   book_name  3000 non-null   object\n",
            " 2   genre      3000 non-null   object\n",
            " 3   summary    3000 non-null   object\n",
            "dtypes: int64(1), object(3)\n",
            "memory usage: 93.9+ KB\n"
          ]
        }
      ],
      "source": [
        "books.info()"
      ]
    },
    {
      "cell_type": "code",
      "execution_count": 7,
      "id": "compliant-height",
      "metadata": {
        "colab": {
          "base_uri": "https://localhost:8080/",
          "height": 349
        },
        "id": "compliant-height",
        "outputId": "e6ae651f-a95a-44f0-ace4-4671ed71f85e"
      },
      "outputs": [
        {
          "output_type": "execute_result",
          "data": {
            "text/plain": [
              "(array([0, 1, 2, 3, 4, 5]), <a list of 6 Text major ticklabel objects>)"
            ]
          },
          "metadata": {},
          "execution_count": 7
        },
        {
          "output_type": "display_data",
          "data": {
            "text/plain": [
              "<Figure size 432x288 with 1 Axes>"
            ],
            "image/png": "[encoded data removed]"
          },
          "metadata": {
            "needs_background": "light"
          }
        }
      ],
      "source": [
        "sn.countplot(x = books['genre'],palette='plasma')\n",
        "plt.xticks(rotation = '45')"
      ]
    },
    {
      "cell_type": "code",
      "execution_count": 8,
      "id": "inclusive-motel",
      "metadata": {
        "colab": {
          "base_uri": "https://localhost:8080/",
          "height": 232
        },
        "id": "inclusive-motel",
        "outputId": "e43033af-f795-4e8f-b69e-689eb8dab359"
      },
      "outputs": [
        {
          "output_type": "execute_result",
          "data": {
            "text/plain": [
              "' As the book opens, Jason awakens on a school bus, unable to remember who or where he is, or anything about his past. He is sitting next to Piper McLean and Leo Valdez, who call him by name and say they are his girlfriend and best friend respectively. All three are part of a class field trip to the Grand Canyon, and after they arrive, a classmate Dylan turns into a Venti (Storm Spirit) and attacks the trio and their trip leader, Coach Gleeson Hedge. In the ensuing fight, Jason surprises everyone, including himself, when one of his coins turns into a sword which he uses to battle the storm spirits. Coach Hedge, who reveals himself to be a satyr during the fight, is taken captive by a fleeing spirit. After the battle, a flying chariot arrives to rescue the trio, but one of the people in it, Annabeth, is upset when she discovers that her missing boyfriend, Percy Jackson, is not there as she expected. Annabeth, seeking Percy, was told in a vision from the goddess Hera to look there for the \"guy with one shoe\", but this turns out to be Jason, who had a shoe destroyed during the fight. Jason, Piper,and Leo are told that they are demigods and are taken back to Camp Half-Blood where they meet other greek demigod children like themselves. There, Leo is revealed as a son of Hephaestus, Piper as a daughter of Aphrodite and Jason as a son of Zeus, though Hera tells him he is her champion. Jason later discovers that he is the full brother of Zeus\\'s demigod daughter Thalia Grace, who is a Hunter of Artemis. Shortly after they arrive, the three are given a quest to rescue Hera, who has been captured, and they set off. They soon discover that their enemies are working under orders from Gaea to overthrow the gods. During their quest, they encounter Thalia and the Hunters, who have been looking for Percy. Thalia and Jason reunite for the first since Jason was captured at the age of two. On the way to Aeolus\\'s castle, Jason, Leo and Piper become separated from Thalia, who promises to meet them at the Wolf House, the last place Thalia had seen Jason before this meeting. After being nearly apprehended by Aeolus, who is under Gaea\\'s orders, the trio manage to escape thanks to Mellie, Aeolus`s former assistant, and end up in San Francisco, thanks to the result of a dream Piper had with Aphrodite. After landing in San Francisco, the trio rush to Mt.Diablo to fight the giant Enceladus, who has kidnapped Piper\\'s father. They manage to kill the giant and save Piper\\'s father, after which they rush to the Wolf House to free Hera. Although the heroes and the Hunters save Hera, the king of the giants, Porphyrion, rises fully and disappears into a hole in the Earth. Jason\\'s memory then starts returning, and he remembers that he is a hero from a Roman counterpart to Camp Half-Blood somewhere near San Francisco, and is the son of Jupiter, Zeus\\'s Roman aspect. He realizes that Hera, also known as Juno, has switched him with Percy Jackson, who will be at the Roman camp with no memory of his life, in the hopes that the two camps would ultimately work together to fight the giants and defeat the goddess Gaea.'"
            ],
            "application/vnd.google.colaboratory.intrinsic+json": {
              "type": "string"
            }
          },
          "metadata": {},
          "execution_count": 8
        }
      ],
      "source": [
        "books['summary'].iloc[1]"
      ]
    },
    {
      "cell_type": "code",
      "execution_count": 9,
      "id": "gothic-quick",
      "metadata": {
        "colab": {
          "base_uri": "https://localhost:8080/",
          "height": 232
        },
        "id": "gothic-quick",
        "outputId": "002b1873-617a-4d24-ca02-94b9fd878bce"
      },
      "outputs": [
        {
          "output_type": "execute_result",
          "data": {
            "text/plain": [
              "'as the book opens jason awakens on a school bus unable to remember who or where he is or anything about his past he is sitting next to piper mclean and leo valdez who call him by name and say they are his girlfriend and best friend respectively all three are part of a class field trip to the grand canyon and after they arrive a classmate dylan turns into a venti storm spirit and attacks the trio and their trip leader coach gleeson hedge in the ensuing fight jason surprises everyone including himself when one of his coins turns into a sword which he uses to battle the storm spirits coach hedge who reveals himself to be a satyr during the fight is taken captive by a fleeing spirit after the battle a flying chariot arrives to rescue the trio but one of the people in it annabeth is upset when she discovers that her missing boyfriend percy jackson is not there as she expected annabeth seeking percy was told in a vision from the goddess hera to look there for the guy with one shoe but this turns out to be jason who had a shoe destroyed during the fight jason piper and leo are told that they are demigods and are taken back to camp half blood where they meet other greek demigod children like themselves there leo is revealed as a son of hephaestus piper as a daughter of aphrodite and jason as a son of zeus though hera tells him he is her champion jason later discovers that he is the full brother of zeus s demigod daughter thalia grace who is a hunter of artemis shortly after they arrive the three are given a quest to rescue hera who has been captured and they set off they soon discover that their enemies are working under orders from gaea to overthrow the gods during their quest they encounter thalia and the hunters who have been looking for percy thalia and jason reunite for the first since jason was captured at the age of two on the way to aeolus s castle jason leo and piper become separated from thalia who promises to meet them at the wolf house the last place thalia had seen jason before this meeting after being nearly apprehended by aeolus who is under gaea s orders the trio manage to escape thanks to mellie aeolus s former assistant and end up in san francisco thanks to the result of a dream piper had with aphrodite after landing in san francisco the trio rush to mt diablo to fight the giant enceladus who has kidnapped piper s father they manage to kill the giant and save piper s father after which they rush to the wolf house to free hera although the heroes and the hunters save hera the king of the giants porphyrion rises fully and disappears into a hole in the earth jason s memory then starts returning and he remembers that he is a hero from a roman counterpart to camp half blood somewhere near san francisco and is the son of jupiter zeus s roman aspect he realizes that hera also known as juno has switched him with percy jackson who will be at the roman camp with no memory of his life in the hopes that the two camps would ultimately work together to fight the giants and defeat the goddess gaea'"
            ],
            "application/vnd.google.colaboratory.intrinsic+json": {
              "type": "string"
            }
          },
          "metadata": {},
          "execution_count": 9
        }
      ],
      "source": [
        "## cleaning the text\n",
        "\n",
        "def cleantext(text):\n",
        "    \n",
        "    # removing the \"\\\"\n",
        "    \n",
        "    text = re.sub(\"'\\''\",\"\",text)\n",
        "    \n",
        "    # removing special symbols\n",
        "    \n",
        "    text = re.sub(\"[^a-zA-Z]\",\" \",text)\n",
        "    \n",
        "    # removing the whitespaces\n",
        "    \n",
        "    text = ' '.join(text.split())\n",
        "    \n",
        "    # convert text to lowercase\n",
        "    \n",
        "    text = text.lower()\n",
        "    \n",
        "    return text\n",
        "\n",
        "\n",
        "    \n",
        "books['summary'] = books['summary'].apply(lambda x:cleantext(x))\n",
        "books['summary'].iloc[1]"
      ]
    },
    {
      "cell_type": "markdown",
      "id": "searching-startup",
      "metadata": {
        "id": "searching-startup"
      },
      "source": [
        "#### Plotting the most Frequent Words"
      ]
    },
    {
      "cell_type": "code",
      "execution_count": 10,
      "id": "beautiful-junction",
      "metadata": {
        "scrolled": true,
        "colab": {
          "base_uri": "https://localhost:8080/",
          "height": 334
        },
        "id": "beautiful-junction",
        "outputId": "16a7be04-1b9e-4368-e22b-3bf3daa84fff"
      },
      "outputs": [
        {
          "output_type": "display_data",
          "data": {
            "text/plain": [
              "<Figure size 504x360 with 1 Axes>"
            ],
            "image/png": "[encoded data removed]"
          },
          "metadata": {
            "needs_background": "light"
          }
        }
      ],
      "source": [
        "def showmostfrequentwords(text,no_of_words):\n",
        "    \n",
        "    allwords = ' '.join([char for char in text])\n",
        "    allwords = allwords.split()\n",
        "    fdist = nltk.FreqDist(allwords)\n",
        "    \n",
        "    wordsdf = pd.DataFrame({'word':list(fdist.keys()),'count':list(fdist.values())})\n",
        "    \n",
        "    df = wordsdf.nlargest(columns=\"count\",n = no_of_words)\n",
        "    \n",
        "    plt.figure(figsize=(7,5))\n",
        "    ax = sn.barplot(data=df,x = 'count',y = 'word')\n",
        "    ax.set(ylabel = 'Word')\n",
        "    plt.show()\n",
        "    \n",
        "    return wordsdf\n",
        "    \n",
        "    \n",
        "# 25 most frequent words\n",
        "\n",
        "wordsdf = showmostfrequentwords(books['summary'],25)"
      ]
    },
    {
      "cell_type": "code",
      "execution_count": 14,
      "id": "confident-mentor",
      "metadata": {
        "colab": {
          "base_uri": "https://localhost:8080/",
          "height": 363
        },
        "id": "confident-mentor",
        "outputId": "5db5c923-6d12-41a4-e8f9-d894b9b5b1a5"
      },
      "outputs": [
        {
          "output_type": "execute_result",
          "data": {
            "text/plain": [
              "<pandas.io.formats.style.Styler at 0x7f2646143d90>"
            ],
            "text/html": [
              "<style type=\"text/css\">\n",
              "#T_6720d_row0_col1 {\n",
              "  background-color: #f0f921;\n",
              "  color: #000000;\n",
              "}\n",
              "#T_6720d_row1_col1 {\n",
              "  background-color: #b02991;\n",
              "  color: #f1f1f1;\n",
              "}\n",
              "#T_6720d_row2_col1 {\n",
              "  background-color: #a62098;\n",
              "  color: #f1f1f1;\n",
              "}\n",
              "#T_6720d_row3_col1 {\n",
              "  background-color: #8004a8;\n",
              "  color: #f1f1f1;\n",
              "}\n",
              "#T_6720d_row4_col1 {\n",
              "  background-color: #7a02a8;\n",
              "  color: #f1f1f1;\n",
              "}\n",
              "#T_6720d_row5_col1 {\n",
              "  background-color: #3e049c;\n",
              "  color: #f1f1f1;\n",
              "}\n",
              "#T_6720d_row6_col1 {\n",
              "  background-color: #38049a;\n",
              "  color: #f1f1f1;\n",
              "}\n",
              "#T_6720d_row7_col1 {\n",
              "  background-color: #130789;\n",
              "  color: #f1f1f1;\n",
              "}\n",
              "#T_6720d_row8_col1 {\n",
              "  background-color: #100788;\n",
              "  color: #f1f1f1;\n",
              "}\n",
              "#T_6720d_row9_col1 {\n",
              "  background-color: #0d0887;\n",
              "  color: #f1f1f1;\n",
              "}\n",
              "</style>\n",
              "<table id=\"T_6720d_\" class=\"dataframe\">\n",
              "  <thead>\n",
              "    <tr>\n",
              "      <th class=\"blank level0\" >&nbsp;</th>\n",
              "      <th class=\"col_heading level0 col0\" >word</th>\n",
              "      <th class=\"col_heading level0 col1\" >count</th>\n",
              "    </tr>\n",
              "  </thead>\n",
              "  <tbody>\n",
              "    <tr>\n",
              "      <th id=\"T_6720d_level0_row0\" class=\"row_heading level0 row0\" >3</th>\n",
              "      <td id=\"T_6720d_row0_col0\" class=\"data row0 col0\" >the</td>\n",
              "      <td id=\"T_6720d_row0_col1\" class=\"data row0 col1\" >99808</td>\n",
              "    </tr>\n",
              "    <tr>\n",
              "      <th id=\"T_6720d_level0_row1\" class=\"row_heading level0 row1\" >17</th>\n",
              "      <td id=\"T_6720d_row1_col0\" class=\"data row1 col0\" >to</td>\n",
              "      <td id=\"T_6720d_row1_col1\" class=\"data row1 col1\" >49665</td>\n",
              "    </tr>\n",
              "    <tr>\n",
              "      <th id=\"T_6720d_level0_row2\" class=\"row_heading level0 row2\" >14</th>\n",
              "      <td id=\"T_6720d_row2_col0\" class=\"data row2 col0\" >and</td>\n",
              "      <td id=\"T_6720d_row2_col1\" class=\"data row2 col1\" >47183</td>\n",
              "    </tr>\n",
              "    <tr>\n",
              "      <th id=\"T_6720d_level0_row3\" class=\"row_heading level0 row3\" >46</th>\n",
              "      <td id=\"T_6720d_row3_col0\" class=\"data row3 col0\" >of</td>\n",
              "      <td id=\"T_6720d_row3_col1\" class=\"data row3 col1\" >38003</td>\n",
              "    </tr>\n",
              "    <tr>\n",
              "      <th id=\"T_6720d_level0_row4\" class=\"row_heading level0 row4\" >23</th>\n",
              "      <td id=\"T_6720d_row4_col0\" class=\"data row4 col0\" >a</td>\n",
              "      <td id=\"T_6720d_row4_col1\" class=\"data row4 col1\" >36749</td>\n",
              "    </tr>\n",
              "    <tr>\n",
              "      <th id=\"T_6720d_level0_row5\" class=\"row_heading level0 row5\" >80</th>\n",
              "      <td id=\"T_6720d_row5_col0\" class=\"data row5 col0\" >in</td>\n",
              "      <td id=\"T_6720d_row5_col1\" class=\"data row5 col1\" >24496</td>\n",
              "    </tr>\n",
              "    <tr>\n",
              "      <th id=\"T_6720d_level0_row6\" class=\"row_heading level0 row6\" >2</th>\n",
              "      <td id=\"T_6720d_row6_col0\" class=\"data row6 col0\" >is</td>\n",
              "      <td id=\"T_6720d_row6_col1\" class=\"data row6 col1\" >23358</td>\n",
              "    </tr>\n",
              "    <tr>\n",
              "      <th id=\"T_6720d_level0_row7\" class=\"row_heading level0 row7\" >49</th>\n",
              "      <td id=\"T_6720d_row7_col0\" class=\"data row7 col0\" >his</td>\n",
              "      <td id=\"T_6720d_row7_col1\" class=\"data row7 col1\" >17464</td>\n",
              "    </tr>\n",
              "    <tr>\n",
              "      <th id=\"T_6720d_level0_row8\" class=\"row_heading level0 row8\" >51</th>\n",
              "      <td id=\"T_6720d_row8_col0\" class=\"data row8 col0\" >he</td>\n",
              "      <td id=\"T_6720d_row8_col1\" class=\"data row8 col1\" >17210</td>\n",
              "    </tr>\n",
              "    <tr>\n",
              "      <th id=\"T_6720d_level0_row9\" class=\"row_heading level0 row9\" >12</th>\n",
              "      <td id=\"T_6720d_row9_col0\" class=\"data row9 col0\" >s</td>\n",
              "      <td id=\"T_6720d_row9_col1\" class=\"data row9 col1\" >16710</td>\n",
              "    </tr>\n",
              "  </tbody>\n",
              "</table>\n"
            ]
          },
          "metadata": {},
          "execution_count": 14
        }
      ],
      "source": [
        "wordsdf.sort_values('count',ascending=False).head(10).style.background_gradient(cmap = 'plasma')"
      ]
    },
    {
      "cell_type": "markdown",
      "id": "contrary-doctrine",
      "metadata": {
        "id": "contrary-doctrine"
      },
      "source": [
        "### Removing the stopwords"
      ]
    },
    {
      "cell_type": "code",
      "execution_count": 15,
      "id": "convinced-rebound",
      "metadata": {
        "collapsed": true,
        "colab": {
          "base_uri": "https://localhost:8080/",
          "height": 268
        },
        "id": "convinced-rebound",
        "outputId": "1dc87724-f421-4a33-984c-2ff00b763ab3"
      },
      "outputs": [
        {
          "output_type": "stream",
          "name": "stdout",
          "text": [
            "[nltk_data] Downloading package stopwords to /root/nltk_data...\n",
            "[nltk_data]   Unzipping corpora/stopwords.zip.\n"
          ]
        },
        {
          "output_type": "execute_result",
          "data": {
            "text/plain": [
              "'As book opens, Jason awakens school bus, unable remember is, anything past. He sitting next Piper McLean Leo Valdez, call name say girlfriend best friend respectively. All three part class field trip Grand Canyon, arrive, classmate Dylan turns Venti (Storm Spirit) attacks trio trip leader, Coach Gleeson Hedge. In ensuing fight, Jason surprises everyone, including himself, one coins turns sword uses battle storm spirits. Coach Hedge, reveals satyr fight, taken captive fleeing spirit. After battle, flying chariot arrives rescue trio, one people it, Annabeth, upset discovers missing boyfriend, Percy Jackson, expected. Annabeth, seeking Percy, told vision goddess Hera look \"guy one shoe\", turns Jason, shoe destroyed fight. Jason, Piper,and Leo told demigods taken back Camp Half-Blood meet greek demigod children like themselves. There, Leo revealed son Hephaestus, Piper daughter Aphrodite Jason son Zeus, though Hera tells champion. Jason later discovers full brother Zeus\\'s demigod daughter Thalia Grace, Hunter Artemis. Shortly arrive, three given quest rescue Hera, captured, set off. They soon discover enemies working orders Gaea overthrow gods. During quest, encounter Thalia Hunters, looking Percy. Thalia Jason reunite first since Jason captured age two. On way Aeolus\\'s castle, Jason, Leo Piper become separated Thalia, promises meet Wolf House, last place Thalia seen Jason meeting. After nearly apprehended Aeolus, Gaea\\'s orders, trio manage escape thanks Mellie, Aeolus`s former assistant, end San Francisco, thanks result dream Piper Aphrodite. After landing San Francisco, trio rush Mt.Diablo fight giant Enceladus, kidnapped Piper\\'s father. They manage kill giant save Piper\\'s father, rush Wolf House free Hera. Although heroes Hunters save Hera, king giants, Porphyrion, rises fully disappears hole Earth. Jason\\'s memory starts returning, remembers hero Roman counterpart Camp Half-Blood somewhere near San Francisco, son Jupiter, Zeus\\'s Roman aspect. He realizes Hera, also known Juno, switched Percy Jackson, Roman camp memory life, hopes two camps would ultimately work together fight giants defeat goddess Gaea.'"
            ],
            "application/vnd.google.colaboratory.intrinsic+json": {
              "type": "string"
            }
          },
          "metadata": {},
          "execution_count": 15
        }
      ],
      "source": [
        "nltk.download('stopwords')\n",
        "from nltk.corpus import stopwords\n",
        "stop_words = set(stopwords.words('english'))\n",
        "\n",
        "# removing the stopwords\n",
        "\n",
        "def removestopwords(text):\n",
        "    \n",
        "    removedstopword = [word for word in text.split() if word not in stop_words]\n",
        "    return ' '.join(removedstopword)\n",
        "\n",
        "books['summary'] = books['summary'].apply(lambda x:removestopwords(x))\n",
        "books['summary'].iloc[1]"
      ]
    },
    {
      "cell_type": "markdown",
      "id": "efficient-purple",
      "metadata": {
        "id": "efficient-purple"
      },
      "source": [
        "## Lemmatizing"
      ]
    },
    {
      "cell_type": "code",
      "execution_count": 16,
      "id": "valued-gather",
      "metadata": {
        "colab": {
          "base_uri": "https://localhost:8080/"
        },
        "id": "valued-gather",
        "outputId": "6a327624-9ab6-4bc2-93ed-296b0cd37703"
      },
      "outputs": [
        {
          "output_type": "stream",
          "name": "stdout",
          "text": [
            "[nltk_data] Downloading package wordnet to /root/nltk_data...\n",
            "[nltk_data]   Unzipping corpora/wordnet.zip.\n"
          ]
        }
      ],
      "source": [
        "nltk.download('wordnet')\n",
        "from nltk.stem import WordNetLemmatizer\n",
        "\n",
        "lemma=WordNetLemmatizer()\n",
        "\n",
        "def lematizing(sentence):\n",
        "    stemSentence = \"\"\n",
        "    for word in sentence.split():\n",
        "        stem = lemma.lemmatize(word)\n",
        "        stemSentence += stem\n",
        "        stemSentence += \" \"\n",
        "    stemSentence = stemSentence.strip()\n",
        "    return stemSentence\n",
        "\n",
        "\n",
        "books['summary'] = books['summary'].apply(lambda x: lematizing(x))"
      ]
    },
    {
      "cell_type": "markdown",
      "id": "freelance-property",
      "metadata": {
        "id": "freelance-property"
      },
      "source": [
        "## Stemming "
      ]
    },
    {
      "cell_type": "code",
      "execution_count": 17,
      "id": "excellent-acoustic",
      "metadata": {
        "colab": {
          "base_uri": "https://localhost:8080/",
          "height": 232
        },
        "id": "excellent-acoustic",
        "outputId": "38ea6e39-fd0c-42c4-ba9d-9d0be2e25a18"
      },
      "outputs": [
        {
          "output_type": "execute_result",
          "data": {
            "text/plain": [
              "'As book opens, jason awaken school bus, unabl rememb is, anyth past. He sit next piper mclean leo valdez, call name say girlfriend best friend respectively. all three part class field trip grand canyon, arrive, classmat dylan turn venti (storm spirit) attack trio trip leader, coach gleeson hedge. In ensu fight, jason surpris everyone, includ himself, one coin turn sword us battl storm spirits. coach hedge, reveal satyr fight, taken captiv flee spirit. after battle, fli chariot arriv rescu trio, one peopl it, annabeth, upset discov miss boyfriend, perci jackson, expected. annabeth, seek percy, told vision goddess hera look \"guy one shoe\", turn jason, shoe destroy fight. jason, piper,and leo told demigod taken back camp half-blood meet greek demigod child like themselves. there, leo reveal son hephaestus, piper daughter aphrodit jason son zeus, though hera tell champion. jason later discov full brother zeus\\' demigod daughter thalia grace, hunter artemis. shortli arrive, three given quest rescu hera, captured, set off. they soon discov enemi work order gaea overthrow gods. dure quest, encount thalia hunters, look percy. thalia jason reunit first sinc jason captur age two. On way aeolus\\' castle, jason, leo piper becom separ thalia, promis meet wolf house, last place thalia seen jason meeting. after nearli apprehend aeolus, gaea\\' orders, trio manag escap thank mellie, aeolus` former assistant, end san francisco, thank result dream piper aphrodite. after land san francisco, trio rush mt.diablo fight giant enceladus, kidnap piper\\' father. they manag kill giant save piper\\' father, rush wolf hous free hera. although hero hunter save hera, king giants, porphyrion, rise fulli disappear hole earth. jason\\' memori start returning, rememb hero roman counterpart camp half-blood somewher near san francisco, son jupiter, zeus\\' roman aspect. He realiz hera, also known juno, switch perci jackson, roman camp memori life, hope two camp would ultim work togeth fight giant defeat goddess gaea.'"
            ],
            "application/vnd.google.colaboratory.intrinsic+json": {
              "type": "string"
            }
          },
          "metadata": {},
          "execution_count": 17
        }
      ],
      "source": [
        "# Approach \n",
        "\n",
        "from nltk.stem import PorterStemmer\n",
        "stemmer = PorterStemmer()\n",
        "\n",
        "def stemming(sentence):\n",
        "    \n",
        "    stemmed_sentence = \"\"\n",
        "    for word in sentence.split():\n",
        "        stem = stemmer.stem(word)\n",
        "        stemmed_sentence+=stem\n",
        "        stemmed_sentence+=\" \"\n",
        "        \n",
        "    stemmed_sentence = stemmed_sentence.strip()\n",
        "    return stemmed_sentence\n",
        "\n",
        "books['summary'] = books['summary'].apply(lambda text:stemming(text))\n",
        "books['summary'].iloc[1]"
      ]
    },
    {
      "cell_type": "code",
      "execution_count": 18,
      "id": "little-morrison",
      "metadata": {
        "colab": {
          "base_uri": "https://localhost:8080/",
          "height": 334
        },
        "id": "little-morrison",
        "outputId": "1d13e145-4ce0-4e51-cdfe-c19be0e003dc"
      },
      "outputs": [
        {
          "output_type": "display_data",
          "data": {
            "text/plain": [
              "<Figure size 504x360 with 1 Axes>"
            ],
            "image/png": "[encoded data removed]"
          },
          "metadata": {
            "needs_background": "light"
          }
        }
      ],
      "source": [
        "# visualising frewords\n",
        "\n",
        "freq_df = showmostfrequentwords(books['summary'],25)"
      ]
    },
    {
      "cell_type": "code",
      "execution_count": 19,
      "id": "simple-waters",
      "metadata": {
        "colab": {
          "base_uri": "https://localhost:8080/",
          "height": 363
        },
        "id": "simple-waters",
        "outputId": "d958cf34-912f-42a3-a33d-22a802678dd4"
      },
      "outputs": [
        {
          "output_type": "execute_result",
          "data": {
            "text/plain": [
              "<pandas.io.formats.style.Styler at 0x7f26451a7750>"
            ],
            "text/html": [
              "<style type=\"text/css\">\n",
              "#T_2ede3_row0_col1 {\n",
              "  background-color: #f0f921;\n",
              "  color: #000000;\n",
              "}\n",
              "#T_2ede3_row1_col1 {\n",
              "  background-color: #8004a8;\n",
              "  color: #f1f1f1;\n",
              "}\n",
              "#T_2ede3_row2_col1 {\n",
              "  background-color: #6900a8;\n",
              "  color: #f1f1f1;\n",
              "}\n",
              "#T_2ede3_row3_col1 {\n",
              "  background-color: #6400a7;\n",
              "  color: #f1f1f1;\n",
              "}\n",
              "#T_2ede3_row4_col1 {\n",
              "  background-color: #4e02a2;\n",
              "  color: #f1f1f1;\n",
              "}\n",
              "#T_2ede3_row5_col1 {\n",
              "  background-color: #3e049c;\n",
              "  color: #f1f1f1;\n",
              "}\n",
              "#T_2ede3_row6_col1 {\n",
              "  background-color: #2a0593;\n",
              "  color: #f1f1f1;\n",
              "}\n",
              "#T_2ede3_row7_col1 {\n",
              "  background-color: #19068c;\n",
              "  color: #f1f1f1;\n",
              "}\n",
              "#T_2ede3_row8_col1 {\n",
              "  background-color: #130789;\n",
              "  color: #f1f1f1;\n",
              "}\n",
              "#T_2ede3_row9_col1 {\n",
              "  background-color: #0d0887;\n",
              "  color: #f1f1f1;\n",
              "}\n",
              "</style>\n",
              "<table id=\"T_2ede3_\" class=\"dataframe\">\n",
              "  <thead>\n",
              "    <tr>\n",
              "      <th class=\"blank level0\" >&nbsp;</th>\n",
              "      <th class=\"col_heading level0 col0\" >word</th>\n",
              "      <th class=\"col_heading level0 col1\" >count</th>\n",
              "    </tr>\n",
              "  </thead>\n",
              "  <tbody>\n",
              "    <tr>\n",
              "      <th id=\"T_2ede3_level0_row0\" class=\"row_heading level0 row0\" >17</th>\n",
              "      <td id=\"T_2ede3_row0_col0\" class=\"data row0 col0\" >the</td>\n",
              "      <td id=\"T_2ede3_row0_col1\" class=\"data row0 col1\" >9612</td>\n",
              "    </tr>\n",
              "    <tr>\n",
              "      <th id=\"T_2ede3_level0_row1\" class=\"row_heading level0 row1\" >214</th>\n",
              "      <td id=\"T_2ede3_row1_col0\" class=\"data row1 col0\" >He</td>\n",
              "      <td id=\"T_2ede3_row1_col1\" class=\"data row1 col1\" >3941</td>\n",
              "    </tr>\n",
              "    <tr>\n",
              "      <th id=\"T_2ede3_level0_row2\" class=\"row_heading level0 row2\" >288</th>\n",
              "      <td id=\"T_2ede3_row2_col0\" class=\"data row2 col0\" >find</td>\n",
              "      <td id=\"T_2ede3_row2_col1\" class=\"data row2 col1\" >3502</td>\n",
              "    </tr>\n",
              "    <tr>\n",
              "      <th id=\"T_2ede3_level0_row3\" class=\"row_heading level0 row3\" >304</th>\n",
              "      <td id=\"T_2ede3_row3_col0\" class=\"data row3 col0\" >one</td>\n",
              "      <td id=\"T_2ede3_row3_col1\" class=\"data row3 col1\" >3410</td>\n",
              "    </tr>\n",
              "    <tr>\n",
              "      <th id=\"T_2ede3_level0_row4\" class=\"row_heading level0 row4\" >302</th>\n",
              "      <td id=\"T_2ede3_row4_col0\" class=\"data row4 col0\" >kill</td>\n",
              "      <td id=\"T_2ede3_row4_col1\" class=\"data row4 col1\" >3011</td>\n",
              "    </tr>\n",
              "    <tr>\n",
              "      <th id=\"T_2ede3_level0_row5\" class=\"row_heading level0 row5\" >191</th>\n",
              "      <td id=\"T_2ede3_row5_col0\" class=\"data row5 col0\" >take</td>\n",
              "      <td id=\"T_2ede3_row5_col1\" class=\"data row5 col1\" >2718</td>\n",
              "    </tr>\n",
              "    <tr>\n",
              "      <th id=\"T_2ede3_level0_row6\" class=\"row_heading level0 row6\" >156</th>\n",
              "      <td id=\"T_2ede3_row6_col0\" class=\"data row6 col0\" >go</td>\n",
              "      <td id=\"T_2ede3_row6_col1\" class=\"data row6 col1\" >2383</td>\n",
              "    </tr>\n",
              "    <tr>\n",
              "      <th id=\"T_2ede3_level0_row7\" class=\"row_heading level0 row7\" >42</th>\n",
              "      <td id=\"T_2ede3_row7_col0\" class=\"data row7 col0\" >two</td>\n",
              "      <td id=\"T_2ede3_row7_col1\" class=\"data row7 col1\" >2130</td>\n",
              "    </tr>\n",
              "    <tr>\n",
              "      <th id=\"T_2ede3_level0_row8\" class=\"row_heading level0 row8\" >524</th>\n",
              "      <td id=\"T_2ede3_row8_col0\" class=\"data row8 col0\" >also</td>\n",
              "      <td id=\"T_2ede3_row8_col1\" class=\"data row8 col1\" >2087</td>\n",
              "    </tr>\n",
              "    <tr>\n",
              "      <th id=\"T_2ede3_level0_row9\" class=\"row_heading level0 row9\" >142</th>\n",
              "      <td id=\"T_2ede3_row9_col0\" class=\"data row9 col0\" >tell</td>\n",
              "      <td id=\"T_2ede3_row9_col1\" class=\"data row9 col1\" >2009</td>\n",
              "    </tr>\n",
              "  </tbody>\n",
              "</table>\n"
            ]
          },
          "metadata": {},
          "execution_count": 19
        }
      ],
      "source": [
        "freq_df.sort_values('count',ascending=False).head(10).style.background_gradient(cmap = 'plasma')"
      ]
    },
    {
      "cell_type": "markdown",
      "id": "acute-membrane",
      "metadata": {
        "id": "acute-membrane"
      },
      "source": [
        "##  Encoding"
      ]
    },
    {
      "cell_type": "code",
      "execution_count": 20,
      "id": "cultural-compiler",
      "metadata": {
        "colab": {
          "base_uri": "https://localhost:8080/"
        },
        "id": "cultural-compiler",
        "outputId": "4d06a1b2-6455-4a60-d83d-1d227b1fc44d"
      },
      "outputs": [
        {
          "output_type": "stream",
          "name": "stdout",
          "text": [
            "{'Fantasy': 0, 'Science Fiction': 1, 'Crime Fiction': 2, 'Historical novel': 3, 'Horror': 4, 'Thriller': 5}\n"
          ]
        }
      ],
      "source": [
        "books_list = list(books['genre'].unique())\n",
        "encode = [i for i in range(len(books_list))]\n",
        "mapper = dict(zip(books_list,encode))\n",
        "print(mapper)"
      ]
    },
    {
      "cell_type": "code",
      "execution_count": 21,
      "id": "abroad-liberia",
      "metadata": {
        "colab": {
          "base_uri": "https://localhost:8080/"
        },
        "id": "abroad-liberia",
        "outputId": "b9ffda90-1c0d-4096-adc9-a106eb8e751c"
      },
      "outputs": [
        {
          "output_type": "execute_result",
          "data": {
            "text/plain": [
              "array([0, 1, 2, 3, 4, 5])"
            ]
          },
          "metadata": {},
          "execution_count": 21
        }
      ],
      "source": [
        "books['genre'] = books['genre'].map(mapper)\n",
        "books['genre'].unique()"
      ]
    },
    {
      "cell_type": "markdown",
      "id": "mediterranean-owner",
      "metadata": {
        "id": "mediterranean-owner"
      },
      "source": [
        "## Model Building"
      ]
    },
    {
      "cell_type": "code",
      "execution_count": 22,
      "id": "municipal-farmer",
      "metadata": {
        "scrolled": true,
        "colab": {
          "base_uri": "https://localhost:8080/"
        },
        "id": "municipal-farmer",
        "outputId": "c9976844-543f-4f39-a183-6912b237b392"
      },
      "outputs": [
        {
          "output_type": "execute_result",
          "data": {
            "text/plain": [
              "<3000x1000 sparse matrix of type '<class 'numpy.int64'>'\n",
              "\twith 231451 stored elements in Compressed Sparse Row format>"
            ]
          },
          "metadata": {},
          "execution_count": 22
        }
      ],
      "source": [
        "## count vectorizer\n",
        "\n",
        "count_vec = CountVectorizer(max_df=0.90,min_df=2,\n",
        "                           max_features=1000,stop_words='english')\n",
        "\n",
        "bagofword_vec = count_vec.fit_transform(books['summary'])\n",
        "bagofword_vec"
      ]
    },
    {
      "cell_type": "code",
      "execution_count": 23,
      "id": "federal-glance",
      "metadata": {
        "colab": {
          "base_uri": "https://localhost:8080/"
        },
        "id": "federal-glance",
        "outputId": "94166654-f525-4054-bcdf-cd51553f7bfc"
      },
      "outputs": [
        {
          "output_type": "execute_result",
          "data": {
            "text/plain": [
              "((2400, 1000), (600, 1000))"
            ]
          },
          "metadata": {},
          "execution_count": 23
        }
      ],
      "source": [
        "test = books['genre']\n",
        "X_train, X_test, y_train, y_test = train_test_split(bagofword_vec,test,\n",
        "                                                    test_size=0.2)\n",
        "X_train.shape,X_test.shape"
      ]
    },
    {
      "cell_type": "code",
      "execution_count": 24,
      "id": "handled-rolling",
      "metadata": {
        "colab": {
          "base_uri": "https://localhost:8080/"
        },
        "id": "handled-rolling",
        "outputId": "ee80ac71-aa26-45d8-bad9-f8b8c4091959"
      },
      "outputs": [
        {
          "output_type": "stream",
          "name": "stdout",
          "text": [
            "0.57\n"
          ]
        }
      ],
      "source": [
        "svc = SVC()\n",
        "svc.fit(X_train,y_train)\n",
        "svccpred = svc.predict(X_test)\n",
        "print(metrics.accuracy_score(y_test,svccpred))"
      ]
    },
    {
      "cell_type": "code",
      "execution_count": 25,
      "id": "trained-peeing",
      "metadata": {
        "colab": {
          "base_uri": "https://localhost:8080/"
        },
        "id": "trained-peeing",
        "outputId": "9f487c25-4d28-405f-fdc0-7c5e2dba39cf"
      },
      "outputs": [
        {
          "output_type": "stream",
          "name": "stdout",
          "text": [
            "0.6716666666666666\n"
          ]
        }
      ],
      "source": [
        "mb = MultinomialNB()\n",
        "mb.fit(X_train,y_train)\n",
        "mbpred = mb.predict(X_test)\n",
        "print(metrics.accuracy_score(y_test,mbpred))"
      ]
    },
    {
      "cell_type": "code",
      "execution_count": 26,
      "id": "medium-peeing",
      "metadata": {
        "colab": {
          "base_uri": "https://localhost:8080/"
        },
        "id": "medium-peeing",
        "outputId": "9ad302fc-3883-400a-9688-d32f048f2097"
      },
      "outputs": [
        {
          "output_type": "stream",
          "name": "stdout",
          "text": [
            "0.6416666666666667\n"
          ]
        }
      ],
      "source": [
        "rf = RandomForestClassifier()\n",
        "rf.fit(X_train,y_train)\n",
        "print(metrics.accuracy_score(y_test,rf.predict(X_test)))"
      ]
    },
    {
      "cell_type": "markdown",
      "id": "theoretical-indicator",
      "metadata": {
        "id": "theoretical-indicator"
      },
      "source": [
        "## Part 2 Model Building\n",
        "\n",
        " + Changing from Countvectorizer to TFDIF vectorizer"
      ]
    },
    {
      "cell_type": "code",
      "execution_count": 27,
      "id": "comparative-shuttle",
      "metadata": {
        "colab": {
          "base_uri": "https://localhost:8080/"
        },
        "id": "comparative-shuttle",
        "outputId": "e630d4b8-f4dc-4f07-d62f-f7b500772cd2"
      },
      "outputs": [
        {
          "output_type": "execute_result",
          "data": {
            "text/plain": [
              "((2400,), (600,))"
            ]
          },
          "metadata": {},
          "execution_count": 27
        }
      ],
      "source": [
        "#Labeling each 'genre' with an unique number \n",
        "\n",
        "from sklearn.preprocessing import LabelEncoder\n",
        "le = LabelEncoder()\n",
        "y=le.fit_transform(books['genre'])\n",
        "\n",
        "X_train,X_test,y_train,y_test = train_test_split(books['summary']\n",
        "                                                ,y,test_size=0.2,\n",
        "                                                random_state=557)\n",
        "\n",
        "X_train.shape,X_test.shape"
      ]
    },
    {
      "cell_type": "code",
      "execution_count": 28,
      "id": "connected-coach",
      "metadata": {
        "id": "connected-coach"
      },
      "outputs": [],
      "source": [
        "#Performing tf-idf \n",
        "\n",
        "tfidf_vectorizer = TfidfVectorizer(max_df=0.8, max_features=10000)\n",
        "xtrain_tfidf = tfidf_vectorizer.fit_transform(X_train.values.astype('U'))\n",
        "xtest_tfidf = tfidf_vectorizer.transform(X_test.values.astype('U'))"
      ]
    },
    {
      "cell_type": "code",
      "execution_count": 29,
      "id": "swedish-generator",
      "metadata": {
        "colab": {
          "base_uri": "https://localhost:8080/"
        },
        "id": "swedish-generator",
        "outputId": "8944778c-fbd6-4e44-98b0-9b2a3c92c209"
      },
      "outputs": [
        {
          "output_type": "stream",
          "name": "stdout",
          "text": [
            "0.7633333333333333\n"
          ]
        }
      ],
      "source": [
        "svc = SVC()\n",
        "svc.fit(xtrain_tfidf,y_train)\n",
        "svccpred = svc.predict(xtest_tfidf)\n",
        "print(metrics.accuracy_score(y_test,svccpred))"
      ]
    },
    {
      "cell_type": "code",
      "execution_count": 30,
      "id": "intended-framing",
      "metadata": {
        "colab": {
          "base_uri": "https://localhost:8080/"
        },
        "id": "intended-framing",
        "outputId": "cd0cd189-7dac-4056-d772-26eab40049a4"
      },
      "outputs": [
        {
          "output_type": "stream",
          "name": "stdout",
          "text": [
            "0.7733333333333333\n"
          ]
        }
      ],
      "source": [
        "mb = MultinomialNB()\n",
        "mb.fit(xtrain_tfidf,y_train)\n",
        "mbpred = mb.predict(xtest_tfidf)\n",
        "print(metrics.accuracy_score(y_test,mbpred))"
      ]
    },
    {
      "cell_type": "markdown",
      "id": "ultimate-worcester",
      "metadata": {
        "id": "ultimate-worcester"
      },
      "source": [
        "## Testing the Model"
      ]
    },
    {
      "cell_type": "code",
      "execution_count": 31,
      "id": "shared-naples",
      "metadata": {
        "colab": {
          "base_uri": "https://localhost:8080/"
        },
        "id": "shared-naples",
        "outputId": "6aa06d99-3002-4358-837a-3d8b90ac850a"
      },
      "outputs": [
        {
          "output_type": "execute_result",
          "data": {
            "text/plain": [
              "0       [0]\n",
              "1       [0]\n",
              "2       [0]\n",
              "3       [0]\n",
              "4       [0]\n",
              "       ... \n",
              "2995    [1]\n",
              "2996    [5]\n",
              "2997    [5]\n",
              "2998    [5]\n",
              "2999    [5]\n",
              "Name: summary, Length: 3000, dtype: object"
            ]
          },
          "metadata": {},
          "execution_count": 31
        }
      ],
      "source": [
        "def test(text,model):\n",
        "    \n",
        "    text = cleantext(text)\n",
        "    text = removestopwords(text)\n",
        "    text = lematizing(text)\n",
        "    text = stemming(text)\n",
        "    \n",
        "    text_vector = tfidf_vectorizer.transform([text])\n",
        "    predicted = model.predict(text_vector)\n",
        "    return predicted\n",
        "\n",
        "\n",
        "\n",
        "ans = books['summary'].apply(lambda text:test(text,mb))\n",
        "\n",
        "# printing the \n",
        "# print(list(mapper.keys())[list(mapper.values()).index(ans)])\n",
        "\n",
        "ans"
      ]
    },
    {
      "cell_type": "code",
      "execution_count": 32,
      "id": "challenging-texture",
      "metadata": {
        "id": "challenging-texture"
      },
      "outputs": [],
      "source": [
        "predicted_genres = []\n",
        "for i in range(len(ans)):\n",
        "    \n",
        "    index_val = ans[i][0]\n",
        "    predicted_genres.append(list(mapper.keys())[list(mapper.values()).index(index_val)])\n",
        "    "
      ]
    },
    {
      "cell_type": "code",
      "execution_count": 33,
      "id": "outstanding-current",
      "metadata": {
        "colab": {
          "base_uri": "https://localhost:8080/"
        },
        "id": "outstanding-current",
        "outputId": "48ea0c0f-6f75-49ac-ef51-b6e7c503f8af"
      },
      "outputs": [
        {
          "output_type": "execute_result",
          "data": {
            "text/plain": [
              "{'Crime Fiction': 2,\n",
              " 'Fantasy': 0,\n",
              " 'Historical novel': 3,\n",
              " 'Horror': 4,\n",
              " 'Science Fiction': 1,\n",
              " 'Thriller': 5}"
            ]
          },
          "metadata": {},
          "execution_count": 33
        }
      ],
      "source": [
        "mapper"
      ]
    },
    {
      "cell_type": "code",
      "execution_count": 34,
      "id": "stable-publisher",
      "metadata": {
        "scrolled": true,
        "colab": {
          "base_uri": "https://localhost:8080/"
        },
        "id": "stable-publisher",
        "outputId": "437cc29f-163d-4ddc-cbc7-269fb2b45822"
      },
      "outputs": [
        {
          "output_type": "execute_result",
          "data": {
            "text/plain": [
              "{0: 'Fantasy',\n",
              " 1: 'Science Fiction',\n",
              " 2: 'Crime Fiction',\n",
              " 3: 'Historical novel',\n",
              " 4: 'Horror',\n",
              " 5: 'Thriller'}"
            ]
          },
          "metadata": {},
          "execution_count": 34
        }
      ],
      "source": [
        "## mapping the training genre as well\n",
        "\n",
        "newmap = dict([(value,key) for key,value in mapper.items()])\n",
        "newmap"
      ]
    },
    {
      "cell_type": "code",
      "execution_count": 35,
      "id": "quick-illinois",
      "metadata": {
        "colab": {
          "base_uri": "https://localhost:8080/"
        },
        "id": "quick-illinois",
        "outputId": "bf2e569e-f1d1-4948-d493-f151b158e798"
      },
      "outputs": [
        {
          "output_type": "stream",
          "name": "stdout",
          "text": [
            "{0: 'Fantasy', 1: 'Science Fiction', 2: 'Crime Fiction', 3: 'Historical novel', 4: 'Horror', 5: 'Thriller'}\n"
          ]
        }
      ],
      "source": [
        "print(newmap)"
      ]
    },
    {
      "cell_type": "code",
      "execution_count": 36,
      "id": "local-protection",
      "metadata": {
        "colab": {
          "base_uri": "https://localhost:8080/",
          "height": 354
        },
        "id": "local-protection",
        "outputId": "05b24209-01eb-4952-fd7c-620b34128f24"
      },
      "outputs": [
        {
          "output_type": "execute_result",
          "data": {
            "text/plain": [
              "    book_id                  book_name  genre  \\\n",
              "0   3248537          Drowned Wednesday      0   \n",
              "1  27796919              The Lost Hero      0   \n",
              "2   3910776  The Eyes of the Overworld      0   \n",
              "3   5969644            Magic's Promise      0   \n",
              "4   3173445             Taran Wanderer      0   \n",
              "\n",
              "                                             summary Actual Genre  \\\n",
              "0  drown wednesday first truste among morrow day ...      Fantasy   \n",
              "1  As book opens, jason awaken school bus, unabl ...      Fantasy   \n",
              "2  cugel easili persuad merchant fianosth attempt...      Fantasy   \n",
              "3  the book open herald-mag vanyel return countri...      Fantasy   \n",
              "4  taran gurgi return caer dallben follow event t...      Fantasy   \n",
              "\n",
              "  Predicted_genre  \n",
              "0         Fantasy  \n",
              "1         Fantasy  \n",
              "2         Fantasy  \n",
              "3         Fantasy  \n",
              "4         Fantasy  "
            ],
            "text/html": [
              "\n",
              "  <div id=\"df-fe1c04eb-392a-4766-bb92-35652175ab12\">\n",
              "    <div class=\"colab-df-container\">\n",
              "      <div>\n",
              "<style scoped>\n",
              "    .dataframe tbody tr th:only-of-type {\n",
              "        vertical-align: middle;\n",
              "    }\n",
              "\n",
              "    .dataframe tbody tr th {\n",
              "        vertical-align: top;\n",
              "    }\n",
              "\n",
              "    .dataframe thead th {\n",
              "        text-align: right;\n",
              "    }\n",
              "</style>\n",
              "<table border=\"1\" class=\"dataframe\">\n",
              "  <thead>\n",
              "    <tr style=\"text-align: right;\">\n",
              "      <th></th>\n",
              "      <th>book_id</th>\n",
              "      <th>book_name</th>\n",
              "      <th>genre</th>\n",
              "      <th>summary</th>\n",
              "      <th>Actual Genre</th>\n",
              "      <th>Predicted_genre</th>\n",
              "    </tr>\n",
              "  </thead>\n",
              "  <tbody>\n",
              "    <tr>\n",
              "      <th>0</th>\n",
              "      <td>3248537</td>\n",
              "      <td>Drowned Wednesday</td>\n",
              "      <td>0</td>\n",
              "      <td>drown wednesday first truste among morrow day ...</td>\n",
              "      <td>Fantasy</td>\n",
              "      <td>Fantasy</td>\n",
              "    </tr>\n",
              "    <tr>\n",
              "      <th>1</th>\n",
              "      <td>27796919</td>\n",
              "      <td>The Lost Hero</td>\n",
              "      <td>0</td>\n",
              "      <td>As book opens, jason awaken school bus, unabl ...</td>\n",
              "      <td>Fantasy</td>\n",
              "      <td>Fantasy</td>\n",
              "    </tr>\n",
              "    <tr>\n",
              "      <th>2</th>\n",
              "      <td>3910776</td>\n",
              "      <td>The Eyes of the Overworld</td>\n",
              "      <td>0</td>\n",
              "      <td>cugel easili persuad merchant fianosth attempt...</td>\n",
              "      <td>Fantasy</td>\n",
              "      <td>Fantasy</td>\n",
              "    </tr>\n",
              "    <tr>\n",
              "      <th>3</th>\n",
              "      <td>5969644</td>\n",
              "      <td>Magic's Promise</td>\n",
              "      <td>0</td>\n",
              "      <td>the book open herald-mag vanyel return countri...</td>\n",
              "      <td>Fantasy</td>\n",
              "      <td>Fantasy</td>\n",
              "    </tr>\n",
              "    <tr>\n",
              "      <th>4</th>\n",
              "      <td>3173445</td>\n",
              "      <td>Taran Wanderer</td>\n",
              "      <td>0</td>\n",
              "      <td>taran gurgi return caer dallben follow event t...</td>\n",
              "      <td>Fantasy</td>\n",
              "      <td>Fantasy</td>\n",
              "    </tr>\n",
              "  </tbody>\n",
              "</table>\n",
              "</div>\n",
              "      <button class=\"colab-df-convert\" onclick=\"convertToInteractive('df-fe1c04eb-392a-4766-bb92-35652175ab12')\"\n",
              "              title=\"Convert this dataframe to an interactive table.\"\n",
              "              style=\"display:none;\">\n",
              "        \n",
              "  <svg xmlns=\"http://www.w3.org/2000/svg\" height=\"24px\"viewBox=\"0 0 24 24\"\n",
              "       width=\"24px\">\n",
              "    <path d=\"M0 0h24v24H0V0z\" fill=\"none\"/>\n",
              "    <path d=\"M18.56 5.44l.94 2.06.94-2.06 2.06-.94-2.06-.94-.94-2.06-.94 2.06-2.06.94zm-11 1L8.5 8.5l.94-2.06 2.06-.94-2.06-.94L8.5 2.5l-.94 2.06-2.06.94zm10 10l.94 2.06.94-2.06 2.06-.94-2.06-.94-.94-2.06-.94 2.06-2.06.94z\"/><path d=\"M17.41 7.96l-1.37-1.37c-.4-.4-.92-.59-1.43-.59-.52 0-1.04.2-1.43.59L10.3 9.45l-7.72 7.72c-.78.78-.78 2.05 0 2.83L4 21.41c.39.39.9.59 1.41.59.51 0 1.02-.2 1.41-.59l7.78-7.78 2.81-2.81c.8-.78.8-2.07 0-2.86zM5.41 20L4 18.59l7.72-7.72 1.47 1.35L5.41 20z\"/>\n",
              "  </svg>\n",
              "      </button>\n",
              "      \n",
              "  <style>\n",
              "    .colab-df-container {\n",
              "      display:flex;\n",
              "      flex-wrap:wrap;\n",
              "      gap: 12px;\n",
              "    }\n",
              "\n",
              "    .colab-df-convert {\n",
              "      background-color: #E8F0FE;\n",
              "      border: none;\n",
              "      border-radius: 50%;\n",
              "      cursor: pointer;\n",
              "      display: none;\n",
              "      fill: #1967D2;\n",
              "      height: 32px;\n",
              "      padding: 0 0 0 0;\n",
              "      width: 32px;\n",
              "    }\n",
              "\n",
              "    .colab-df-convert:hover {\n",
              "      background-color: #E2EBFA;\n",
              "      box-shadow: 0px 1px 2px rgba(60, 64, 67, 0.3), 0px 1px 3px 1px rgba(60, 64, 67, 0.15);\n",
              "      fill: #174EA6;\n",
              "    }\n",
              "\n",
              "    [theme=dark] .colab-df-convert {\n",
              "      background-color: #3B4455;\n",
              "      fill: #D2E3FC;\n",
              "    }\n",
              "\n",
              "    [theme=dark] .colab-df-convert:hover {\n",
              "      background-color: #434B5C;\n",
              "      box-shadow: 0px 1px 3px 1px rgba(0, 0, 0, 0.15);\n",
              "      filter: drop-shadow(0px 1px 2px rgba(0, 0, 0, 0.3));\n",
              "      fill: #FFFFFF;\n",
              "    }\n",
              "  </style>\n",
              "\n",
              "      <script>\n",
              "        const buttonEl =\n",
              "          document.querySelector('#df-fe1c04eb-392a-4766-bb92-35652175ab12 button.colab-df-convert');\n",
              "        buttonEl.style.display =\n",
              "          google.colab.kernel.accessAllowed ? 'block' : 'none';\n",
              "\n",
              "        async function convertToInteractive(key) {\n",
              "          const element = document.querySelector('#df-fe1c04eb-392a-4766-bb92-35652175ab12');\n",
              "          const dataTable =\n",
              "            await google.colab.kernel.invokeFunction('convertToInteractive',\n",
              "                                                     [key], {});\n",
              "          if (!dataTable) return;\n",
              "\n",
              "          const docLinkHtml = 'Like what you see? Visit the ' +\n",
              "            '<a target=\"_blank\" href=https://colab.research.google.com/notebooks/data_table.ipynb>data table notebook</a>'\n",
              "            + ' to learn more about interactive tables.';\n",
              "          element.innerHTML = '';\n",
              "          dataTable['output_type'] = 'display_data';\n",
              "          await google.colab.output.renderOutput(dataTable, element);\n",
              "          const docLink = document.createElement('div');\n",
              "          docLink.innerHTML = docLinkHtml;\n",
              "          element.appendChild(docLink);\n",
              "        }\n",
              "      </script>\n",
              "    </div>\n",
              "  </div>\n",
              "  "
            ]
          },
          "metadata": {},
          "execution_count": 36
        }
      ],
      "source": [
        "books['Actual Genre'] = books['genre'].map(newmap)\n",
        "books['Predicted_genre'] = np.array(predicted_genres)\n",
        "books.head()"
      ]
    },
    {
      "cell_type": "code",
      "execution_count": 37,
      "id": "sound-milwaukee",
      "metadata": {
        "scrolled": true,
        "colab": {
          "base_uri": "https://localhost:8080/",
          "height": 659
        },
        "id": "sound-milwaukee",
        "outputId": "bc5ed9cb-c295-4d57-b008-62926c13fd11"
      },
      "outputs": [
        {
          "output_type": "execute_result",
          "data": {
            "text/plain": [
              "                      book_name  \\\n",
              "0             Drowned Wednesday   \n",
              "1                 The Lost Hero   \n",
              "2     The Eyes of the Overworld   \n",
              "3               Magic's Promise   \n",
              "4                Taran Wanderer   \n",
              "...                         ...   \n",
              "2995                White Death   \n",
              "2996          Venus with Pistol   \n",
              "2997                 Blackwater   \n",
              "2998   The Rainbow and the Rose   \n",
              "2999                     Chiefs   \n",
              "\n",
              "                                                summary Actual Genre  \\\n",
              "0     drown wednesday first truste among morrow day ...      Fantasy   \n",
              "1     As book opens, jason awaken school bus, unabl ...      Fantasy   \n",
              "2     cugel easili persuad merchant fianosth attempt...      Fantasy   \n",
              "3     the book open herald-mag vanyel return countri...      Fantasy   \n",
              "4     taran gurgi return caer dallben follow event t...      Fantasy   \n",
              "...                                                 ...          ...   \n",
              "2995  A novel numa files, A kurt austin adventure. I...     Thriller   \n",
              "2996  gilbert kemp dealer special antiqu gun london ...     Thriller   \n",
              "2997  \"how know deep? davey alway live shadow older ...     Thriller   \n",
              "2998  the stori concern life johnni pascoe, retir co...     Thriller   \n",
              "2999  the first chief: will henri lee: the novel ope...     Thriller   \n",
              "\n",
              "      Predicted_genre  \n",
              "0             Fantasy  \n",
              "1             Fantasy  \n",
              "2             Fantasy  \n",
              "3             Fantasy  \n",
              "4             Fantasy  \n",
              "...               ...  \n",
              "2995  Science Fiction  \n",
              "2996         Thriller  \n",
              "2997         Thriller  \n",
              "2998         Thriller  \n",
              "2999         Thriller  \n",
              "\n",
              "[3000 rows x 4 columns]"
            ],
            "text/html": [
              "\n",
              "  <div id=\"df-e371b1e0-6005-4261-a075-f84b746092a0\">\n",
              "    <div class=\"colab-df-container\">\n",
              "      <div>\n",
              "<style scoped>\n",
              "    .dataframe tbody tr th:only-of-type {\n",
              "        vertical-align: middle;\n",
              "    }\n",
              "\n",
              "    .dataframe tbody tr th {\n",
              "        vertical-align: top;\n",
              "    }\n",
              "\n",
              "    .dataframe thead th {\n",
              "        text-align: right;\n",
              "    }\n",
              "</style>\n",
              "<table border=\"1\" class=\"dataframe\">\n",
              "  <thead>\n",
              "    <tr style=\"text-align: right;\">\n",
              "      <th></th>\n",
              "      <th>book_name</th>\n",
              "      <th>summary</th>\n",
              "      <th>Actual Genre</th>\n",
              "      <th>Predicted_genre</th>\n",
              "    </tr>\n",
              "  </thead>\n",
              "  <tbody>\n",
              "    <tr>\n",
              "      <th>0</th>\n",
              "      <td>Drowned Wednesday</td>\n",
              "      <td>drown wednesday first truste among morrow day ...</td>\n",
              "      <td>Fantasy</td>\n",
              "      <td>Fantasy</td>\n",
              "    </tr>\n",
              "    <tr>\n",
              "      <th>1</th>\n",
              "      <td>The Lost Hero</td>\n",
              "      <td>As book opens, jason awaken school bus, unabl ...</td>\n",
              "      <td>Fantasy</td>\n",
              "      <td>Fantasy</td>\n",
              "    </tr>\n",
              "    <tr>\n",
              "      <th>2</th>\n",
              "      <td>The Eyes of the Overworld</td>\n",
              "      <td>cugel easili persuad merchant fianosth attempt...</td>\n",
              "      <td>Fantasy</td>\n",
              "      <td>Fantasy</td>\n",
              "    </tr>\n",
              "    <tr>\n",
              "      <th>3</th>\n",
              "      <td>Magic's Promise</td>\n",
              "      <td>the book open herald-mag vanyel return countri...</td>\n",
              "      <td>Fantasy</td>\n",
              "      <td>Fantasy</td>\n",
              "    </tr>\n",
              "    <tr>\n",
              "      <th>4</th>\n",
              "      <td>Taran Wanderer</td>\n",
              "      <td>taran gurgi return caer dallben follow event t...</td>\n",
              "      <td>Fantasy</td>\n",
              "      <td>Fantasy</td>\n",
              "    </tr>\n",
              "    <tr>\n",
              "      <th>...</th>\n",
              "      <td>...</td>\n",
              "      <td>...</td>\n",
              "      <td>...</td>\n",
              "      <td>...</td>\n",
              "    </tr>\n",
              "    <tr>\n",
              "      <th>2995</th>\n",
              "      <td>White Death</td>\n",
              "      <td>A novel numa files, A kurt austin adventure. I...</td>\n",
              "      <td>Thriller</td>\n",
              "      <td>Science Fiction</td>\n",
              "    </tr>\n",
              "    <tr>\n",
              "      <th>2996</th>\n",
              "      <td>Venus with Pistol</td>\n",
              "      <td>gilbert kemp dealer special antiqu gun london ...</td>\n",
              "      <td>Thriller</td>\n",
              "      <td>Thriller</td>\n",
              "    </tr>\n",
              "    <tr>\n",
              "      <th>2997</th>\n",
              "      <td>Blackwater</td>\n",
              "      <td>\"how know deep? davey alway live shadow older ...</td>\n",
              "      <td>Thriller</td>\n",
              "      <td>Thriller</td>\n",
              "    </tr>\n",
              "    <tr>\n",
              "      <th>2998</th>\n",
              "      <td>The Rainbow and the Rose</td>\n",
              "      <td>the stori concern life johnni pascoe, retir co...</td>\n",
              "      <td>Thriller</td>\n",
              "      <td>Thriller</td>\n",
              "    </tr>\n",
              "    <tr>\n",
              "      <th>2999</th>\n",
              "      <td>Chiefs</td>\n",
              "      <td>the first chief: will henri lee: the novel ope...</td>\n",
              "      <td>Thriller</td>\n",
              "      <td>Thriller</td>\n",
              "    </tr>\n",
              "  </tbody>\n",
              "</table>\n",
              "<p>3000 rows × 4 columns</p>\n",
              "</div>\n",
              "      <button class=\"colab-df-convert\" onclick=\"convertToInteractive('df-e371b1e0-6005-4261-a075-f84b746092a0')\"\n",
              "              title=\"Convert this dataframe to an interactive table.\"\n",
              "              style=\"display:none;\">\n",
              "        \n",
              "  <svg xmlns=\"http://www.w3.org/2000/svg\" height=\"24px\"viewBox=\"0 0 24 24\"\n",
              "       width=\"24px\">\n",
              "    <path d=\"M0 0h24v24H0V0z\" fill=\"none\"/>\n",
              "    <path d=\"M18.56 5.44l.94 2.06.94-2.06 2.06-.94-2.06-.94-.94-2.06-.94 2.06-2.06.94zm-11 1L8.5 8.5l.94-2.06 2.06-.94-2.06-.94L8.5 2.5l-.94 2.06-2.06.94zm10 10l.94 2.06.94-2.06 2.06-.94-2.06-.94-.94-2.06-.94 2.06-2.06.94z\"/><path d=\"M17.41 7.96l-1.37-1.37c-.4-.4-.92-.59-1.43-.59-.52 0-1.04.2-1.43.59L10.3 9.45l-7.72 7.72c-.78.78-.78 2.05 0 2.83L4 21.41c.39.39.9.59 1.41.59.51 0 1.02-.2 1.41-.59l7.78-7.78 2.81-2.81c.8-.78.8-2.07 0-2.86zM5.41 20L4 18.59l7.72-7.72 1.47 1.35L5.41 20z\"/>\n",
              "  </svg>\n",
              "      </button>\n",
              "      \n",
              "  <style>\n",
              "    .colab-df-container {\n",
              "      display:flex;\n",
              "      flex-wrap:wrap;\n",
              "      gap: 12px;\n",
              "    }\n",
              "\n",
              "    .colab-df-convert {\n",
              "      background-color: #E8F0FE;\n",
              "      border: none;\n",
              "      border-radius: 50%;\n",
              "      cursor: pointer;\n",
              "      display: none;\n",
              "      fill: #1967D2;\n",
              "      height: 32px;\n",
              "      padding: 0 0 0 0;\n",
              "      width: 32px;\n",
              "    }\n",
              "\n",
              "    .colab-df-convert:hover {\n",
              "      background-color: #E2EBFA;\n",
              "      box-shadow: 0px 1px 2px rgba(60, 64, 67, 0.3), 0px 1px 3px 1px rgba(60, 64, 67, 0.15);\n",
              "      fill: #174EA6;\n",
              "    }\n",
              "\n",
              "    [theme=dark] .colab-df-convert {\n",
              "      background-color: #3B4455;\n",
              "      fill: #D2E3FC;\n",
              "    }\n",
              "\n",
              "    [theme=dark] .colab-df-convert:hover {\n",
              "      background-color: #434B5C;\n",
              "      box-shadow: 0px 1px 3px 1px rgba(0, 0, 0, 0.15);\n",
              "      filter: drop-shadow(0px 1px 2px rgba(0, 0, 0, 0.3));\n",
              "      fill: #FFFFFF;\n",
              "    }\n",
              "  </style>\n",
              "\n",
              "      <script>\n",
              "        const buttonEl =\n",
              "          document.querySelector('#df-e371b1e0-6005-4261-a075-f84b746092a0 button.colab-df-convert');\n",
              "        buttonEl.style.display =\n",
              "          google.colab.kernel.accessAllowed ? 'block' : 'none';\n",
              "\n",
              "        async function convertToInteractive(key) {\n",
              "          const element = document.querySelector('#df-e371b1e0-6005-4261-a075-f84b746092a0');\n",
              "          const dataTable =\n",
              "            await google.colab.kernel.invokeFunction('convertToInteractive',\n",
              "                                                     [key], {});\n",
              "          if (!dataTable) return;\n",
              "\n",
              "          const docLinkHtml = 'Like what you see? Visit the ' +\n",
              "            '<a target=\"_blank\" href=https://colab.research.google.com/notebooks/data_table.ipynb>data table notebook</a>'\n",
              "            + ' to learn more about interactive tables.';\n",
              "          element.innerHTML = '';\n",
              "          dataTable['output_type'] = 'display_data';\n",
              "          await google.colab.output.renderOutput(dataTable, element);\n",
              "          const docLink = document.createElement('div');\n",
              "          docLink.innerHTML = docLinkHtml;\n",
              "          element.appendChild(docLink);\n",
              "        }\n",
              "      </script>\n",
              "    </div>\n",
              "  </div>\n",
              "  "
            ]
          },
          "metadata": {},
          "execution_count": 37
        }
      ],
      "source": [
        "books = books[['book_name','summary','Actual Genre','Predicted_genre']]\n",
        "books"
      ]
    },
    {
      "cell_type": "code",
      "execution_count": 38,
      "id": "unauthorized-librarian",
      "metadata": {
        "colab": {
          "base_uri": "https://localhost:8080/"
        },
        "id": "unauthorized-librarian",
        "outputId": "866fdbfd-8ea8-4df9-b82b-4141b68f4521"
      },
      "outputs": [
        {
          "output_type": "execute_result",
          "data": {
            "text/plain": [
              "{'Crime Fiction': 500,\n",
              " 'Fantasy': 500,\n",
              " 'Historical novel': 500,\n",
              " 'Horror': 500,\n",
              " 'Science Fiction': 500,\n",
              " 'Thriller': 500}"
            ]
          },
          "metadata": {},
          "execution_count": 38
        }
      ],
      "source": [
        "dict(Counter(books['Actual Genre'].values))"
      ]
    },
    {
      "cell_type": "code",
      "execution_count": 39,
      "id": "cooperative-kansas",
      "metadata": {
        "colab": {
          "base_uri": "https://localhost:8080/"
        },
        "id": "cooperative-kansas",
        "outputId": "ac9e947e-71ea-4b88-ae6a-3f0cb40dcfc8"
      },
      "outputs": [
        {
          "output_type": "execute_result",
          "data": {
            "text/plain": [
              "{'Crime Fiction': 511,\n",
              " 'Fantasy': 459,\n",
              " 'Historical novel': 511,\n",
              " 'Horror': 498,\n",
              " 'Science Fiction': 532,\n",
              " 'Thriller': 489}"
            ]
          },
          "metadata": {},
          "execution_count": 39
        }
      ],
      "source": [
        "dict(Counter(books['Predicted_genre'].values))"
      ]
    },
    {
      "cell_type": "code",
      "execution_count": 40,
      "id": "organizational-kruger",
      "metadata": {
        "colab": {
          "base_uri": "https://localhost:8080/",
          "height": 350
        },
        "id": "organizational-kruger",
        "outputId": "95a9c31b-2362-4624-aa69-7d53b0bdec5a"
      },
      "outputs": [
        {
          "output_type": "execute_result",
          "data": {
            "text/plain": [
              "(array([0, 1, 2, 3, 4, 5]), <a list of 6 Text major ticklabel objects>)"
            ]
          },
          "metadata": {},
          "execution_count": 40
        },
        {
          "output_type": "display_data",
          "data": {
            "text/plain": [
              "<Figure size 432x288 with 1 Axes>"
            ],
            "image/png": "[encoded data removed]"
          },
          "metadata": {
            "needs_background": "light"
          }
        }
      ],
      "source": [
        "sn.countplot(x = books['Predicted_genre'])\n",
        "plt.xticks(rotation = '45')"
      ]
    },
    {
      "cell_type": "code",
      "execution_count": 41,
      "id": "nonprofit-zimbabwe",
      "metadata": {
        "colab": {
          "base_uri": "https://localhost:8080/",
          "height": 349
        },
        "id": "nonprofit-zimbabwe",
        "outputId": "bf5a7124-8bdb-43a7-f2dc-677ca50a0f68"
      },
      "outputs": [
        {
          "output_type": "execute_result",
          "data": {
            "text/plain": [
              "(array([0, 1, 2, 3, 4, 5]), <a list of 6 Text major ticklabel objects>)"
            ]
          },
          "metadata": {},
          "execution_count": 41
        },
        {
          "output_type": "display_data",
          "data": {
            "text/plain": [
              "<Figure size 432x288 with 1 Axes>"
            ],
            "image/png": "[encoded data removed]"
          },
          "metadata": {
            "needs_background": "light"
          }
        }
      ],
      "source": [
        "sn.countplot(x = books['Actual Genre'])\n",
        "plt.xticks(rotation = '45')"
      ]
    },
    {
      "cell_type": "code",
      "execution_count": 42,
      "id": "fluid-constraint",
      "metadata": {
        "id": "fluid-constraint"
      },
      "outputs": [],
      "source": [
        "# saving the model\n",
        "\n",
        "import pickle\n",
        "file = open('bookgenremodel.pkl','wb')\n",
        "pickle.dump(mb,file)\n",
        "file.close()"
      ]
    },
    {
      "cell_type": "code",
      "execution_count": 43,
      "id": "distant-danger",
      "metadata": {
        "colab": {
          "base_uri": "https://localhost:8080/",
          "height": 232
        },
        "id": "distant-danger",
        "outputId": "49a72620-9ab4-438d-fb73-593265279204"
      },
      "outputs": [
        {
          "output_type": "execute_result",
          "data": {
            "text/plain": [
              "'As book opens, jason awaken school bus, unabl rememb is, anyth past. He sit next piper mclean leo valdez, call name say girlfriend best friend respectively. all three part class field trip grand canyon, arrive, classmat dylan turn venti (storm spirit) attack trio trip leader, coach gleeson hedge. In ensu fight, jason surpris everyone, includ himself, one coin turn sword us battl storm spirits. coach hedge, reveal satyr fight, taken captiv flee spirit. after battle, fli chariot arriv rescu trio, one peopl it, annabeth, upset discov miss boyfriend, perci jackson, expected. annabeth, seek percy, told vision goddess hera look \"guy one shoe\", turn jason, shoe destroy fight. jason, piper,and leo told demigod taken back camp half-blood meet greek demigod child like themselves. there, leo reveal son hephaestus, piper daughter aphrodit jason son zeus, though hera tell champion. jason later discov full brother zeus\\' demigod daughter thalia grace, hunter artemis. shortli arrive, three given quest rescu hera, captured, set off. they soon discov enemi work order gaea overthrow gods. dure quest, encount thalia hunters, look percy. thalia jason reunit first sinc jason captur age two. On way aeolus\\' castle, jason, leo piper becom separ thalia, promis meet wolf house, last place thalia seen jason meeting. after nearli apprehend aeolus, gaea\\' orders, trio manag escap thank mellie, aeolus` former assistant, end san francisco, thank result dream piper aphrodite. after land san francisco, trio rush mt.diablo fight giant enceladus, kidnap piper\\' father. they manag kill giant save piper\\' father, rush wolf hous free hera. although hero hunter save hera, king giants, porphyrion, rise fulli disappear hole earth. jason\\' memori start returning, rememb hero roman counterpart camp half-blood somewher near san francisco, son jupiter, zeus\\' roman aspect. He realiz hera, also known juno, switch perci jackson, roman camp memori life, hope two camp would ultim work togeth fight giant defeat goddess gaea.'"
            ],
            "application/vnd.google.colaboratory.intrinsic+json": {
              "type": "string"
            }
          },
          "metadata": {},
          "execution_count": 43
        }
      ],
      "source": [
        "books['summary'].iloc[1]"
      ]
    },
    {
      "cell_type": "code",
      "execution_count": 47,
      "id": "cordless-candy",
      "metadata": {
        "colab": {
          "base_uri": "https://localhost:8080/"
        },
        "id": "cordless-candy",
        "outputId": "18f035c8-0921-4724-b611-49c646f3be79"
      },
      "outputs": [
        {
          "output_type": "execute_result",
          "data": {
            "text/plain": [
              "TfidfVectorizer(max_df=0.8, max_features=10000)"
            ]
          },
          "metadata": {},
          "execution_count": 47
        }
      ],
      "source": [
        "tfidf_vectorizer"
      ]
    },
    {
      "cell_type": "code",
      "execution_count": 46,
      "id": "extra-check",
      "metadata": {
        "id": "extra-check"
      },
      "outputs": [],
      "source": [
        "file = open('tfdifvector.pkl','wb')\n",
        "pickle.dump(tfidf_vectorizer,file)\n",
        "file.close()"
      ]
    },
    {
      "cell_type": "code",
      "execution_count": 45,
      "id": "accredited-vintage",
      "metadata": {
        "colab": {
          "base_uri": "https://localhost:8080/"
        },
        "id": "accredited-vintage",
        "outputId": "96872336-8be5-450e-ac30-d3fd12e51d1e"
      },
      "outputs": [
        {
          "output_type": "stream",
          "name": "stdout",
          "text": [
            "[nltk_data] Downloading package wordnet to ./...\n",
            "[nltk_data]   Unzipping corpora/wordnet.zip.\n"
          ]
        },
        {
          "output_type": "execute_result",
          "data": {
            "text/plain": [
              "True"
            ]
          },
          "metadata": {},
          "execution_count": 45
        }
      ],
      "source": [
        "wordnet_down = nltk.download('wordnet',download_dir='./')\n",
        "wordnet_down"
      ]
    },
    {
      "cell_type": "code",
      "execution_count": 44,
      "id": "working-master",
      "metadata": {
        "colab": {
          "base_uri": "https://localhost:8080/"
        },
        "id": "working-master",
        "outputId": "d089f938-2b96-4947-a0ad-7d001881149c"
      },
      "outputs": [
        {
          "output_type": "stream",
          "name": "stdout",
          "text": [
            "[nltk_data] Downloading package stopwords to ./...\n",
            "[nltk_data]   Unzipping corpora/stopwords.zip.\n"
          ]
        },
        {
          "output_type": "execute_result",
          "data": {
            "text/plain": [
              "True"
            ]
          },
          "metadata": {},
          "execution_count": 44
        }
      ],
      "source": [
        "nltk.download('stopwords',download_dir='./')"
      ]
    }
  ],
  "metadata": {
    "kernelspec": {
      "display_name": "Python 3",
      "language": "python",
      "name": "python3"
    },
    "language_info": {
      "codemirror_mode": {
        "name": "ipython",
        "version": 3
      },
      "file_extension": ".py",
      "mimetype": "text/x-python",
      "name": "python",
      "nbconvert_exporter": "python",
      "pygments_lexer": "ipython3",
      "version": "3.9.1"
    },
    "colab": {
      "name": "Book Genre Prediction.ipynb",
      "provenance": [],
      "collapsed_sections": []
    }
  },
  "nbformat": 4,
  "nbformat_minor": 5
}